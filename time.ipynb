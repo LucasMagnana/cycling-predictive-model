{
 "cells": [
  {
   "cell_type": "code",
   "execution_count": 6,
   "metadata": {},
   "outputs": [],
   "source": [
    "import pickle\n",
    "\n",
    "import python.display as dp\n",
    "import python.data as data\n",
    "import python.voxels as voxel\n",
    "\n",
    "project_folder = \"veleval\"\n"
   ]
  },
  {
   "cell_type": "code",
   "execution_count": 2,
   "metadata": {},
   "outputs": [],
   "source": [
    "data.add_time_elapsed(\"files/\"+project_folder+\"_wtime/data_processed/observations.df\")"
   ]
  },
  {
   "cell_type": "code",
   "execution_count": 3,
   "metadata": {},
   "outputs": [
    {
     "name": "stdout",
     "output_type": "stream",
     "text": [
      "3606 3606\n"
     ]
    }
   ],
   "source": [
    "data.simplify_gps(\"files/\"+project_folder+\"_wtime/data_processed/observations.df\", \n",
    "                  \"files/\"+project_folder+\"_wtime/data_processed/observations_simplified.df\", dim=3)"
   ]
  },
  {
   "cell_type": "code",
   "execution_count": 4,
   "metadata": {},
   "outputs": [],
   "source": [
    "data.add_speed(\"files/\"+project_folder+\"_wtime/data_processed/observations_simplified.df\")"
   ]
  },
  {
   "cell_type": "code",
   "execution_count": 7,
   "metadata": {},
   "outputs": [],
   "source": [
    "with open(\"files/\"+project_folder+\"_wtime/data_processed/observations_simplified.df\",'rb') as infile:\n",
    "    df_simplified = pickle.load(infile)\n",
    "tab_routes_voxels_simplified, tab_routes_voxels_simplified_global, dict_voxels_simplified = voxel.generate_voxels(\n",
    "    df_simplified, df_simplified.iloc[0][\"route_num\"], df_simplified.iloc[-1][\"route_num\"])"
   ]
  },
  {
   "cell_type": "code",
   "execution_count": 8,
   "metadata": {},
   "outputs": [
    {
     "data": {
      "text/html": [
       "<div>\n",
       "<style scoped>\n",
       "    .dataframe tbody tr th:only-of-type {\n",
       "        vertical-align: middle;\n",
       "    }\n",
       "\n",
       "    .dataframe tbody tr th {\n",
       "        vertical-align: top;\n",
       "    }\n",
       "\n",
       "    .dataframe thead th {\n",
       "        text-align: right;\n",
       "    }\n",
       "</style>\n",
       "<table border=\"1\" class=\"dataframe\">\n",
       "  <thead>\n",
       "    <tr style=\"text-align: right;\">\n",
       "      <th></th>\n",
       "      <th>lat</th>\n",
       "      <th>lon</th>\n",
       "      <th>speed</th>\n",
       "      <th>time</th>\n",
       "      <th>route_num</th>\n",
       "      <th>time_elapsed</th>\n",
       "    </tr>\n",
       "  </thead>\n",
       "  <tbody>\n",
       "    <tr>\n",
       "      <th>0</th>\n",
       "      <td>45.762533</td>\n",
       "      <td>4.890900</td>\n",
       "      <td>0.000000</td>\n",
       "      <td>NaN</td>\n",
       "      <td>0</td>\n",
       "      <td>0.000</td>\n",
       "    </tr>\n",
       "    <tr>\n",
       "      <th>1</th>\n",
       "      <td>45.762032</td>\n",
       "      <td>4.890524</td>\n",
       "      <td>3.255511</td>\n",
       "      <td>NaN</td>\n",
       "      <td>0</td>\n",
       "      <td>19.339</td>\n",
       "    </tr>\n",
       "    <tr>\n",
       "      <th>2</th>\n",
       "      <td>45.762137</td>\n",
       "      <td>4.890598</td>\n",
       "      <td>0.609342</td>\n",
       "      <td>NaN</td>\n",
       "      <td>0</td>\n",
       "      <td>21.339</td>\n",
       "    </tr>\n",
       "    <tr>\n",
       "      <th>3</th>\n",
       "      <td>45.762144</td>\n",
       "      <td>4.890523</td>\n",
       "      <td>0.225357</td>\n",
       "      <td>NaN</td>\n",
       "      <td>0</td>\n",
       "      <td>26.339</td>\n",
       "    </tr>\n",
       "    <tr>\n",
       "      <th>4</th>\n",
       "      <td>45.762215</td>\n",
       "      <td>4.889786</td>\n",
       "      <td>1.221979</td>\n",
       "      <td>NaN</td>\n",
       "      <td>0</td>\n",
       "      <td>47.340</td>\n",
       "    </tr>\n",
       "    <tr>\n",
       "      <th>...</th>\n",
       "      <td>...</td>\n",
       "      <td>...</td>\n",
       "      <td>...</td>\n",
       "      <td>...</td>\n",
       "      <td>...</td>\n",
       "      <td>...</td>\n",
       "    </tr>\n",
       "    <tr>\n",
       "      <th>74</th>\n",
       "      <td>45.761014</td>\n",
       "      <td>4.857700</td>\n",
       "      <td>0.004254</td>\n",
       "      <td>NaN</td>\n",
       "      <td>3605</td>\n",
       "      <td>1332.000</td>\n",
       "    </tr>\n",
       "    <tr>\n",
       "      <th>75</th>\n",
       "      <td>45.760991</td>\n",
       "      <td>4.857942</td>\n",
       "      <td>0.014199</td>\n",
       "      <td>NaN</td>\n",
       "      <td>3605</td>\n",
       "      <td>1337.000</td>\n",
       "    </tr>\n",
       "    <tr>\n",
       "      <th>76</th>\n",
       "      <td>45.760995</td>\n",
       "      <td>4.858098</td>\n",
       "      <td>0.009031</td>\n",
       "      <td>NaN</td>\n",
       "      <td>3605</td>\n",
       "      <td>1347.000</td>\n",
       "    </tr>\n",
       "    <tr>\n",
       "      <th>77</th>\n",
       "      <td>45.762488</td>\n",
       "      <td>4.857807</td>\n",
       "      <td>0.121536</td>\n",
       "      <td>NaN</td>\n",
       "      <td>3605</td>\n",
       "      <td>1378.000</td>\n",
       "    </tr>\n",
       "    <tr>\n",
       "      <th>78</th>\n",
       "      <td>45.762639</td>\n",
       "      <td>4.857801</td>\n",
       "      <td>0.012006</td>\n",
       "      <td>NaN</td>\n",
       "      <td>3605</td>\n",
       "      <td>1399.000</td>\n",
       "    </tr>\n",
       "  </tbody>\n",
       "</table>\n",
       "<p>214576 rows × 6 columns</p>\n",
       "</div>"
      ],
      "text/plain": [
       "          lat       lon     speed time route_num  time_elapsed\n",
       "0   45.762533  4.890900  0.000000  NaN         0         0.000\n",
       "1   45.762032  4.890524  3.255511  NaN         0        19.339\n",
       "2   45.762137  4.890598  0.609342  NaN         0        21.339\n",
       "3   45.762144  4.890523  0.225357  NaN         0        26.339\n",
       "4   45.762215  4.889786  1.221979  NaN         0        47.340\n",
       "..        ...       ...       ...  ...       ...           ...\n",
       "74  45.761014  4.857700  0.004254  NaN      3605      1332.000\n",
       "75  45.760991  4.857942  0.014199  NaN      3605      1337.000\n",
       "76  45.760995  4.858098  0.009031  NaN      3605      1347.000\n",
       "77  45.762488  4.857807  0.121536  NaN      3605      1378.000\n",
       "78  45.762639  4.857801  0.012006  NaN      3605      1399.000\n",
       "\n",
       "[214576 rows x 6 columns]"
      ]
     },
     "execution_count": 8,
     "metadata": {},
     "output_type": "execute_result"
    }
   ],
   "source": [
    "df_simplified"
   ]
  }
 ],
 "metadata": {
  "kernelspec": {
   "display_name": "cycling-predictive-model",
   "language": "python",
   "name": "cycling-predictive-model"
  },
  "language_info": {
   "codemirror_mode": {
    "name": "ipython",
    "version": 3
   },
   "file_extension": ".py",
   "mimetype": "text/x-python",
   "name": "python",
   "nbconvert_exporter": "python",
   "pygments_lexer": "ipython3",
   "version": "3.7.3"
  }
 },
 "nbformat": 4,
 "nbformat_minor": 4
}
