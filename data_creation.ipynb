{
 "cells": [
  {
   "cell_type": "code",
   "execution_count": 1,
   "metadata": {},
   "outputs": [],
   "source": [
    "import python.data as data\n",
    "project_folder = \"veleval_full\"\n",
    "import pickle "
   ]
  },
  {
   "cell_type": "code",
   "execution_count": null,
   "metadata": {},
   "outputs": [],
   "source": [
    "data.mapmatching(\"files/\"+project_folder+\"/data_processed/observations.df\", \n",
    "                 \"files/\"+project_folder+\"/data_processed/observations_matched.df\", 0)"
   ]
  },
  {
   "cell_type": "code",
   "execution_count": null,
   "metadata": {},
   "outputs": [],
   "source": [
    "data.check_file(\"files/\"+project_folder+\"/data_processed/unreachable_routes.tab\", [[],[]])\n",
    "if(project_folder == \"veleval_full\"):\n",
    "    tab_unreachable_routes = [[864, 1196, 1656, 1922, 2638, 3263], [2390, 2986]]\n",
    "elif(project_folder == \"veleval\"):\n",
    "    tab_unreachable_routes = [[675], []]\n",
    "else:\n",
    "    tab_unreachable_routes = [[], []]\n",
    "with open(\"files/\"+project_folder+\"/data_processed/unreachable_routes.tab\",'wb') as outfile:\n",
    "    tab_unreachable_routes = pickle.dump(tab_unreachable_routes, outfile)"
   ]
  },
  {
   "cell_type": "code",
   "execution_count": null,
   "metadata": {},
   "outputs": [],
   "source": [
    "data.simplify_gps(\"files/\"+project_folder+\"/data_processed/observations_matched.df\", \n",
    "                  \"files/\"+project_folder+\"/data_processed/observations_matched_simplified.df\", 0)"
   ]
  },
  {
   "cell_type": "code",
   "execution_count": null,
   "metadata": {},
   "outputs": [],
   "source": [
    "data.pathfinding_osmnx(\"files/\"+project_folder+\"/data_processed/observations_matched_simplified.df\", \n",
    "                       \"files/\"+project_folder+\"/data_processed/osmnx_pathfinding.df\", \n",
    "                       \"files/\"+project_folder+\"/city_graphs\",\n",
    "                       \"files/\"+project_folder+\"/data_processed/unreachable_routes.tab\", 0)"
   ]
  },
  {
   "cell_type": "code",
   "execution_count": null,
   "metadata": {},
   "outputs": [],
   "source": [
    "data.simplify_gps(\"files/\"+project_folder+\"/data_processed/osmnx_pathfinding.df\", \n",
    "                  \"files/\"+project_folder+\"/data_processed/osmnx_pathfinding_simplified.df\", 0)"
   ]
  },
  {
   "cell_type": "markdown",
   "metadata": {},
   "source": [
    "## Distance"
   ]
  },
  {
   "cell_type": "code",
   "execution_count": 2,
   "metadata": {},
   "outputs": [],
   "source": [
    "data.compute_distance(\"files/\"+project_folder+\"/data_processed/observations_matched_simplified.df\",\n",
    "                      \"files/\"+project_folder+\"/distances/distances_observations.tab\")\n",
    "data.compute_distance(\"files/\"+project_folder+\"/data_processed/osmnx_pathfinding_simplified.df\", \n",
    "                      \"files/\"+project_folder+\"/distances/distances_osmnx.tab\")"
   ]
  },
  {
   "cell_type": "markdown",
   "metadata": {},
   "source": [
    "## Bikepath"
   ]
  },
  {
   "cell_type": "code",
   "execution_count": null,
   "metadata": {},
   "outputs": [],
   "source": [
    "#data.bikepath_fusion(\"files/\"+project_folder+\"/data_processed/osm_bikepath.df\", \n",
    "#                     \"files/\"+project_folder+\"/data_processed/bikepath_fusioned.df\", 0)"
   ]
  },
  {
   "cell_type": "code",
   "execution_count": null,
   "metadata": {},
   "outputs": [],
   "source": []
  },
  {
   "cell_type": "code",
   "execution_count": null,
   "metadata": {},
   "outputs": [],
   "source": []
  }
 ],
 "metadata": {
  "kernelspec": {
   "display_name": "Python 3",
   "language": "python",
   "name": "python3"
  },
  "language_info": {
   "codemirror_mode": {
    "name": "ipython",
    "version": 3
   },
   "file_extension": ".py",
   "mimetype": "text/x-python",
   "name": "python",
   "nbconvert_exporter": "python",
   "pygments_lexer": "ipython3",
   "version": "3.8.5"
  }
 },
 "nbformat": 4,
 "nbformat_minor": 4
}
