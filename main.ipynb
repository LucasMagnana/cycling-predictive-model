{
 "cells": [
  {
   "cell_type": "code",
   "execution_count": 45,
   "metadata": {},
   "outputs": [],
   "source": [
    "import pandas as pd\n",
    "import numpy as np\n",
    "import pickle\n",
    "import plotly.express as px\n",
    "import plotly.graph_objects as go\n",
    "from copy import deepcopy\n",
    "import json\n",
    "import torch\n",
    "import torch.nn as nn\n",
    "from math import sin, cos, sqrt, atan2, radians\n",
    "import copy\n",
    "from sklearn.cluster import *\n",
    "from sklearn.decomposition import PCA\n",
    "from sklearn.metrics import silhouette_score\n",
    "from sklearn_extra.cluster import KMedoids\n",
    "import geopy.distance\n",
    "from scipy.spatial.distance import *\n",
    "import random\n",
    "import numpy as np\n",
    "import osmnx as ox\n",
    "import networkx as nx\n",
    "from sklearn.neighbors import KDTree\n",
    "import folium\n",
    "import matplotlib.pyplot as plt\n",
    "\n",
    "import python.data as data\n",
    "import python.display as dp\n",
    "import python.voxels as voxel\n",
    "import python.metric as metric\n",
    "import python.clustering as cl\n",
    "import python.RNN as RNN\n",
    "#import python.learning as learning\n",
    "#from python.NN import *\n",
    "\n",
    "project_folder = \"monresovelo\"\n",
    "\n",
    "display = False\n",
    "save_dict_voxels_pathfinding_clustered = False\n",
    "new_voxels_clustering = True\n",
    "save_kmeans_voxels = False"
   ]
  },
  {
   "cell_type": "code",
   "execution_count": 49,
   "metadata": {},
   "outputs": [
    {
     "ename": "KeyboardInterrupt",
     "evalue": "",
     "output_type": "error",
     "traceback": [
      "\u001b[0;31m---------------------------------------------------------------------------\u001b[0m",
      "\u001b[0;31mKeyboardInterrupt\u001b[0m                         Traceback (most recent call last)",
      "\u001b[0;32m<ipython-input-49-bf760301c83d>\u001b[0m in \u001b[0;36m<module>\u001b[0;34m\u001b[0m\n\u001b[1;32m      2\u001b[0m     \u001b[0mdf_simplified\u001b[0m \u001b[0;34m=\u001b[0m \u001b[0mpickle\u001b[0m\u001b[0;34m.\u001b[0m\u001b[0mload\u001b[0m\u001b[0;34m(\u001b[0m\u001b[0minfile\u001b[0m\u001b[0;34m)\u001b[0m\u001b[0;34m\u001b[0m\u001b[0;34m\u001b[0m\u001b[0m\n\u001b[1;32m      3\u001b[0m     \u001b[0mdf_simplified\u001b[0m \u001b[0;34m=\u001b[0m \u001b[0mpd\u001b[0m\u001b[0;34m.\u001b[0m\u001b[0mDataFrame\u001b[0m\u001b[0;34m(\u001b[0m\u001b[0mdf_simplified\u001b[0m\u001b[0;34m,\u001b[0m \u001b[0mdtype\u001b[0m\u001b[0;34m=\u001b[0m\u001b[0mobject\u001b[0m\u001b[0;34m)\u001b[0m\u001b[0;34m\u001b[0m\u001b[0;34m\u001b[0m\u001b[0m\n\u001b[0;32m----> 4\u001b[0;31m \u001b[0mtab_routes_voxels_simplified\u001b[0m\u001b[0;34m,\u001b[0m \u001b[0mdict_voxels_simplified\u001b[0m \u001b[0;34m=\u001b[0m \u001b[0mvoxel\u001b[0m\u001b[0;34m.\u001b[0m\u001b[0mcreate_dict_vox\u001b[0m\u001b[0;34m(\u001b[0m\u001b[0mdf_simplified\u001b[0m\u001b[0;34m,\u001b[0m \u001b[0mdf_simplified\u001b[0m\u001b[0;34m.\u001b[0m\u001b[0miloc\u001b[0m\u001b[0;34m[\u001b[0m\u001b[0;36m0\u001b[0m\u001b[0;34m]\u001b[0m\u001b[0;34m[\u001b[0m\u001b[0;34m\"route_num\"\u001b[0m\u001b[0;34m]\u001b[0m\u001b[0;34m,\u001b[0m \u001b[0mdf_simplified\u001b[0m\u001b[0;34m.\u001b[0m\u001b[0miloc\u001b[0m\u001b[0;34m[\u001b[0m\u001b[0;34m-\u001b[0m\u001b[0;36m1\u001b[0m\u001b[0;34m]\u001b[0m\u001b[0;34m[\u001b[0m\u001b[0;34m\"route_num\"\u001b[0m\u001b[0;34m]\u001b[0m\u001b[0;34m)\u001b[0m\u001b[0;34m\u001b[0m\u001b[0;34m\u001b[0m\u001b[0m\n\u001b[0m\u001b[1;32m      5\u001b[0m \u001b[0mtab_routes_voxels_simplified_global\u001b[0m \u001b[0;34m=\u001b[0m \u001b[0mvoxel\u001b[0m\u001b[0;34m.\u001b[0m\u001b[0mget_tab_routes_voxels_global\u001b[0m\u001b[0;34m(\u001b[0m\u001b[0mdict_voxels_simplified\u001b[0m\u001b[0;34m,\u001b[0m \u001b[0mdf_simplified\u001b[0m\u001b[0;34m.\u001b[0m\u001b[0miloc\u001b[0m\u001b[0;34m[\u001b[0m\u001b[0;34m-\u001b[0m\u001b[0;36m1\u001b[0m\u001b[0;34m]\u001b[0m\u001b[0;34m[\u001b[0m\u001b[0;34m\"route_num\"\u001b[0m\u001b[0;34m]\u001b[0m\u001b[0;34m,\u001b[0m \u001b[0mdf_simplified\u001b[0m\u001b[0;34m.\u001b[0m\u001b[0miloc\u001b[0m\u001b[0;34m[\u001b[0m\u001b[0;36m0\u001b[0m\u001b[0;34m]\u001b[0m\u001b[0;34m[\u001b[0m\u001b[0;34m\"route_num\"\u001b[0m\u001b[0;34m]\u001b[0m\u001b[0;34m)\u001b[0m\u001b[0;34m\u001b[0m\u001b[0;34m\u001b[0m\u001b[0m\n\u001b[1;32m      6\u001b[0m \u001b[0;34m\u001b[0m\u001b[0m\n",
      "\u001b[0;32m~/cycling-predictive-model/python/voxels.py\u001b[0m in \u001b[0;36mcreate_dict_vox\u001b[0;34m(df, starting, ending, bikepath)\u001b[0m\n\u001b[1;32m    259\u001b[0m                     \u001b[0mdict_vox\u001b[0m\u001b[0;34m[\u001b[0m\u001b[0mkey\u001b[0m\u001b[0;34m]\u001b[0m\u001b[0;34m[\u001b[0m\u001b[0;34m\"cluster\"\u001b[0m\u001b[0;34m]\u001b[0m \u001b[0;34m=\u001b[0m \u001b[0mroute_num\u001b[0m\u001b[0;34m\u001b[0m\u001b[0;34m\u001b[0m\u001b[0m\n\u001b[1;32m    260\u001b[0m \u001b[0;34m\u001b[0m\u001b[0m\n\u001b[0;32m--> 261\u001b[0;31m                 \u001b[0;32mif\u001b[0m\u001b[0;34m(\u001b[0m\u001b[0;32mnot\u001b[0m \u001b[0mkey\u001b[0m \u001b[0;32min\u001b[0m \u001b[0mtab_routes_voxels\u001b[0m\u001b[0;34m[\u001b[0m\u001b[0;34m-\u001b[0m\u001b[0;36m1\u001b[0m\u001b[0;34m]\u001b[0m\u001b[0;34m)\u001b[0m\u001b[0;34m:\u001b[0m\u001b[0;34m\u001b[0m\u001b[0;34m\u001b[0m\u001b[0m\n\u001b[0m\u001b[1;32m    262\u001b[0m                     \u001b[0mtab_routes_voxels\u001b[0m\u001b[0;34m[\u001b[0m\u001b[0;34m-\u001b[0m\u001b[0;36m1\u001b[0m\u001b[0;34m]\u001b[0m\u001b[0;34m.\u001b[0m\u001b[0mappend\u001b[0m\u001b[0;34m(\u001b[0m\u001b[0mkey\u001b[0m\u001b[0;34m)\u001b[0m\u001b[0;34m\u001b[0m\u001b[0;34m\u001b[0m\u001b[0m\n\u001b[1;32m    263\u001b[0m \u001b[0;34m\u001b[0m\u001b[0m\n",
      "\u001b[0;31mKeyboardInterrupt\u001b[0m: "
     ]
    }
   ],
   "source": [
    "with open(\"files/\"+project_folder+\"/data/observations.df\",'rb') as infile:\n",
    "    df_simplified = pickle.load(infile)\n",
    "    df_simplified = pd.DataFrame(df_simplified, dtype=object)\n",
    "tab_routes_voxels_simplified, dict_voxels_simplified = voxel.create_dict_vox(df_simplified, df_simplified.iloc[0][\"route_num\"], df_simplified.iloc[-1][\"route_num\"])\n",
    "tab_routes_voxels_simplified_global = voxel.get_tab_routes_voxels_global(dict_voxels_simplified, df_simplified.iloc[-1][\"route_num\"], df_simplified.iloc[0][\"route_num\"])\n",
    "\n",
    "tab = []\n",
    "for key in dict_voxels_simplified:\n",
    "    vox_str = key.split(\";\")\n",
    "    vox_int = [int(vox_str[0]), int(vox_str[1])]\n",
    "    vox_pos = voxel.get_voxel_points(vox_int, 0)\n",
    "    tab.append([vox_pos[0][0], vox_pos[0][1], dict_voxels_simplified[key][\"cyclability_coeff\"]])\n",
    "\n",
    "df = pd.DataFrame(tab, columns=[\"lat\", \"lon\", \"Cyclability coefficient\"])\n",
    "fig = px.scatter_mapbox(df, lat=\"lat\", lon=\"lon\",  color=\"Cyclability coefficient\", size=\"Cyclability coefficient\", zoom=11)\n",
    "fig.show()"
   ]
  },
  {
   "cell_type": "markdown",
   "metadata": {},
   "source": [
    "## Map Matching"
   ]
  },
  {
   "cell_type": "code",
   "execution_count": 2,
   "metadata": {
    "scrolled": true
   },
   "outputs": [],
   "source": [
    "data.mapmatching(\"files/\"+project_folder+\"/data/observations.df\", \n",
    "                 \"files/\"+project_folder+\"/data/observations_matched.df\", 0)"
   ]
  },
  {
   "cell_type": "code",
   "execution_count": 3,
   "metadata": {},
   "outputs": [],
   "source": [
    "data.simplify_gps(\"files/\"+project_folder+\"/data/observations_matched.df\", \n",
    "                  \"files/\"+project_folder+\"/data/observations_matched_simplified.df\", 0)"
   ]
  },
  {
   "cell_type": "code",
   "execution_count": 4,
   "metadata": {},
   "outputs": [],
   "source": [
    "data.simplify_gps(\"files/\"+project_folder+\"/data/osmnx_pathfinding.df\", \n",
    "                  \"files/\"+project_folder+\"/data/osmnx_pathfinding_simplified.df\", 0)"
   ]
  },
  {
   "cell_type": "markdown",
   "metadata": {},
   "source": [
    "## Pathfinding"
   ]
  },
  {
   "cell_type": "code",
   "execution_count": 5,
   "metadata": {},
   "outputs": [],
   "source": [
    "data.pathfinding_mapbox(\"files/\"+project_folder+\"/data/observations_matched_simplified.df\", \n",
    "                        \"files/\"+project_folder+\"/data/mapbox_pathfinding_cycling.df\", 0)"
   ]
  },
  {
   "cell_type": "markdown",
   "metadata": {},
   "source": [
    "## Distance"
   ]
  },
  {
   "cell_type": "code",
   "execution_count": 6,
   "metadata": {},
   "outputs": [],
   "source": [
    "data.compute_distance(\"files/\"+project_folder+\"/data/observations_matched_simplified.df\",\n",
    "                      \"files/\"+project_folder+\"/distances/distances_observations.tab\")\n",
    "data.compute_distance(\"files/\"+project_folder+\"/data/mapbox_pathfinding_cycling.df\",\n",
    "                      \"files/\"+project_folder+\"/distances/distances_mapbox.tab\")\n",
    "data.compute_distance(\"files/\"+project_folder+\"/data/osmnx_pathfinding_simplified.df\", \n",
    "                      \"files/\"+project_folder+\"/distances/distances_osmnx.tab\")"
   ]
  },
  {
   "cell_type": "markdown",
   "metadata": {},
   "source": [
    "# Data Loading"
   ]
  },
  {
   "cell_type": "code",
   "execution_count": 7,
   "metadata": {},
   "outputs": [
    {
     "name": "stderr",
     "output_type": "stream",
     "text": [
      "/home/lucas/.local/share/virtualenvs/cycling-predictive-model-QUpaYq3k/lib/python3.7/site-packages/ipykernel_launcher.py:6: SettingWithCopyWarning: \n",
      "A value is trying to be set on a copy of a slice from a DataFrame.\n",
      "Try using .loc[row_indexer,col_indexer] = value instead\n",
      "\n",
      "See the caveats in the documentation: https://pandas.pydata.org/pandas-docs/stable/user_guide/indexing.html#returning-a-view-versus-a-copy\n",
      "  \n",
      "/home/lucas/.local/share/virtualenvs/cycling-predictive-model-QUpaYq3k/lib/python3.7/site-packages/ipykernel_launcher.py:17: SettingWithCopyWarning: \n",
      "A value is trying to be set on a copy of a slice from a DataFrame.\n",
      "Try using .loc[row_indexer,col_indexer] = value instead\n",
      "\n",
      "See the caveats in the documentation: https://pandas.pydata.org/pandas-docs/stable/user_guide/indexing.html#returning-a-view-versus-a-copy\n"
     ]
    }
   ],
   "source": [
    "with open(\"files/\"+project_folder+\"/data/observations_matched_simplified.df\",'rb') as infile:\n",
    "    df_s = pickle.load(infile)\n",
    "    df_simplified = pd.DataFrame(columns=[\"lat\", \"lon\", \"route_num\"])\n",
    "    for i in range(df_s.iloc[0][\"route_num\"], df_s.iloc[-1][\"route_num\"]+1):\n",
    "        df_temp = df_s[df_s[\"route_num\"]==i]\n",
    "        df_temp[\"route_num\"] = i-1\n",
    "        df_simplified = df_simplified.append(df_temp)\n",
    "tab_routes_voxels_simplified, dict_voxels_simplified = voxel.create_dict_vox(df_simplified, df_simplified.iloc[0][\"route_num\"], df_simplified.iloc[-1][\"route_num\"])\n",
    "tab_routes_voxels_simplified_global = voxel.get_tab_routes_voxels_global(dict_voxels_simplified, df_simplified.iloc[-1][\"route_num\"], df_simplified.iloc[0][\"route_num\"])\n",
    "\n",
    "\n",
    "with open(\"files/\"+project_folder+\"/data/osmnx_pathfinding_simplified.df\",'rb') as infile:\n",
    "    df_p = pickle.load(infile) \n",
    "    df_pathfinding = pd.DataFrame(columns=[\"lat\", \"lon\", \"route_num\"])\n",
    "    for i in range(df_p.iloc[0][\"route_num\"], df_p.iloc[-1][\"route_num\"]+1):\n",
    "        df_temp = df_p[df_p[\"route_num\"]==i]\n",
    "        df_temp[\"route_num\"] = i-1\n",
    "        df_pathfinding = df_pathfinding.append(df_temp)\n",
    "tab_routes_voxels_pathfinding, dict_voxels_pathfinding = voxel.create_dict_vox(df_pathfinding, df_pathfinding.iloc[0][\"route_num\"], df_pathfinding.iloc[-1][\"route_num\"])\n",
    "tab_routes_voxels_pathfinding_global = voxel.get_tab_routes_voxels_global(dict_voxels_pathfinding, df_pathfinding.iloc[-1][\"route_num\"], df_pathfinding.iloc[0][\"route_num\"])\n"
   ]
  },
  {
   "cell_type": "code",
   "execution_count": 8,
   "metadata": {},
   "outputs": [
    {
     "name": "stdout",
     "output_type": "stream",
     "text": [
      "899\n"
     ]
    }
   ],
   "source": [
    "print(len(tab_routes_voxels_simplified))"
   ]
  },
  {
   "cell_type": "markdown",
   "metadata": {},
   "source": [
    "## Piste cyclable"
   ]
  },
  {
   "cell_type": "code",
   "execution_count": 9,
   "metadata": {},
   "outputs": [],
   "source": [
    "#df_bikepath = data.load_bikepath('datas/pvo_patrimoine_voirie.json')\n",
    "with open(\"files/\"+project_folder+\"/data/onlylyon_bikepath_fusioned.df\", \"rb\") as outfile:\n",
    "    df_bikepath = pickle.load(outfile)\n",
    "    df_bikepath = pd.DataFrame(df_bikepath, dtype=object)\n",
    "      \n",
    "_, dict_voxels_bikepath = voxel.create_dict_vox(df_bikepath, df_bikepath.iloc[0][\"route_num\"], df_bikepath.iloc[-1][\"route_num\"], True)\n"
   ]
  },
  {
   "cell_type": "code",
   "execution_count": 10,
   "metadata": {
    "scrolled": false
   },
   "outputs": [],
   "source": [
    "def bikepath_fusion(df_bikepath):\n",
    "    verbose = False\n",
    "\n",
    "    n_route = 0\n",
    "    n_route_next = n_route+1\n",
    "    n = n_route\n",
    "    nb_change = 0\n",
    "    while(n_route < df_bikepath.iloc[-1][\"route_num\"]):\n",
    "        p1 = df_bikepath[df_bikepath[\"route_num\"]==n_route].values.tolist()[-1][:2]\n",
    "        p2 = df_bikepath[df_bikepath[\"route_num\"]==n_route_next].values.tolist()[0][:2]\n",
    "        v1 = voxel.find_voxel_int(p1)\n",
    "        v2 = voxel.find_voxel_int(p2)\n",
    "        if(v1 == v2):\n",
    "            tab_changes = [n_route]\n",
    "            while(v1 == v2):\n",
    "                tab_changes.append(n_route_next)\n",
    "                n_route_next += 1\n",
    "                n_route += 1\n",
    "                p1 = df_bikepath[df_bikepath[\"route_num\"]==n_route].values.tolist()[-1][:2]\n",
    "                p2 = df_bikepath[df_bikepath[\"route_num\"]==n_route_next].values.tolist()[0][:2]\n",
    "                v1 = voxel.find_voxel_int(p1)\n",
    "                v2 = voxel.find_voxel_int(p2)\n",
    "            for i in range(len(tab_changes)):\n",
    "                df_bikepath = df_bikepath.replace({\"route_num\": tab_changes[i]}, n)\n",
    "                if(verbose):\n",
    "                    print(tab_changes[i], \"->\", n, \"equals\")\n",
    "                if(i != 0):\n",
    "                    nb_change += 1\n",
    "            n+=1\n",
    "            n_route += 1\n",
    "        else:\n",
    "            df_bikepath = df_bikepath.replace({\"route_num\": n_route}, n)\n",
    "            if(verbose):\n",
    "                print(n_route, \"->\", n)\n",
    "            n_route += 1\n",
    "            n += 1\n",
    "        n_route_next += 1\n",
    "    df_bikepath = df_bikepath.replace({\"route_num\": df_bikepath.iloc[-1][\"route_num\"]}, n)\n",
    "    print(nb_change, \"changes\")\n",
    "    return df_bikepath\n",
    "    \n",
    "#df_bikepath_fusioned = bikepath_fusion(df_bikepath)"
   ]
  },
  {
   "cell_type": "code",
   "execution_count": 11,
   "metadata": {
    "scrolled": true
   },
   "outputs": [],
   "source": [
    "def bikepath_fusion_2(df_bikepath):\n",
    "    df_bikepath_fusioned = pd.DataFrame()\n",
    "    route_num_fusioned = 0\n",
    "    nb_changes = 0\n",
    "    for i in range(int(df_bikepath.iloc[-1][\"route_num\"])):\n",
    "        if(len(df_bikepath[df_bikepath[\"route_num\"]==i]) > 0):\n",
    "            print(i)\n",
    "            for j in range(i, int(df_bikepath.iloc[-1][\"route_num\"])):\n",
    "                if(len(df_bikepath[df_bikepath[\"route_num\"]==j]) > 0):\n",
    "                    p1 = df_bikepath[df_bikepath[\"route_num\"]==i].values.tolist()[-1][:2]\n",
    "                    p2 = df_bikepath[df_bikepath[\"route_num\"]==j].values.tolist()[0][:2]\n",
    "                    v1 = voxel.find_voxel_int(p1)\n",
    "                    v2 = voxel.find_voxel_int(p2)\n",
    "                    if(v1 == v2):\n",
    "                        nb_changes += 1\n",
    "                        df_bikepath = df_bikepath.replace({\"route_num\": j}, i)\n",
    "                        \n",
    "            df_temp = df_bikepath[df_bikepath[\"route_num\"]==i]\n",
    "            df_temp[\"route_num\"] = route_num_fusioned\n",
    "            route_num_fusioned += 1\n",
    "            df_bikepath_fusioned = df_bikepath_fusioned.append(df_temp)            \n",
    "    print(nb_changes, \"changes\")\n",
    "    return df_bikepath_fusioned\n",
    "\n",
    "#df_bikepath_fusioned = bikepath_fusion_2(df_bikepath)"
   ]
  },
  {
   "cell_type": "markdown",
   "metadata": {},
   "source": [
    "# Test voxels"
   ]
  },
  {
   "cell_type": "code",
   "execution_count": 12,
   "metadata": {},
   "outputs": [],
   "source": [
    "if(display):\n",
    "    with open(\"files/\"+project_folder+\"/data/observations_matched_simplified.df\",'rb') as infile:\n",
    "            df_simplified = pickle.load(infile)\n",
    "\n",
    "    nb_routes = 2\n",
    "    min_routes = 2\n",
    "    df_simplified[\"type\"] = 0\n",
    "    df_display = df_simplified[(df_simplified[\"route_num\"]<=nb_routes)]\n",
    "    print(df_display)\n",
    "    _, dict_voxels = voxel.create_dict_vox(df_display, 1, nb_routes)\n",
    "    tab_vox = voxel.get_voxels_with_min_routes(dict_voxels, min_routes)\n",
    "    print(len(tab_vox)/4)\n",
    "\n",
    "    df = pd.DataFrame(tab_vox, columns=[\"lat\", \"lon\", \"route_num\", \"type\"])\n",
    "    df_display = df_display.append(df)\n",
    "    dp.display(df_display, color=\"type\")    \n",
    "    print(tab_vox)\n",
    "    print(df)\n"
   ]
  },
  {
   "cell_type": "markdown",
   "metadata": {},
   "source": [
    "# Heat Maps"
   ]
  },
  {
   "cell_type": "code",
   "execution_count": 13,
   "metadata": {},
   "outputs": [],
   "source": [
    "if(display):     \n",
    "    tab = []\n",
    "    for key in dict_voxels_simplified:\n",
    "        vox_str = key.split(\";\")\n",
    "        vox_int = [int(vox_str[0]), int(vox_str[1])]\n",
    "        vox_pos = voxel.get_voxel_points(vox_int, 0)\n",
    "        tab.append([vox_pos[0][0], vox_pos[0][1], dict_voxels_simplified[key][\"cyclability_coeff\"]])\n",
    "\n",
    "    df = pd.DataFrame(tab, columns=[\"lat\", \"lon\", \"Cyclability coefficient\"])\n",
    "    fig = px.scatter_mapbox(df, lat=\"lat\", lon=\"lon\",  color=\"Cyclability coefficient\", size=\"Cyclability coefficient\", zoom=11)\n",
    "    fig.show()\n",
    "    #fig.write_image(\"images/heatmap_simplified.png\")"
   ]
  },
  {
   "cell_type": "code",
   "execution_count": 14,
   "metadata": {},
   "outputs": [],
   "source": [
    "if(display):\n",
    "    tab = []\n",
    "    for key in dict_voxels_pathfinding:\n",
    "        vox_str = key.split(\";\")\n",
    "        vox_int = [int(vox_str[0]), int(vox_str[1])]\n",
    "        vox_pos = voxel.get_voxel_points(vox_int, 0)\n",
    "        tab.append([vox_pos[0][0], vox_pos[0][1], dict_voxels_pathfinding[key][\"cyclability_coeff\"]])\n",
    "\n",
    "    df = pd.DataFrame(tab, columns=[\"lat\", \"lon\", \"Cyclability coefficient\"])\n",
    "    fig = px.scatter_mapbox(df, lat=\"lat\", lon=\"lon\",  color=\"Cyclability coefficient\", size=\"Cyclability coefficient\", zoom=11)\n",
    "    fig.show()\n",
    "    #fig.write_image(\"images/heatmap_mapbox.png\")"
   ]
  },
  {
   "cell_type": "code",
   "execution_count": 15,
   "metadata": {},
   "outputs": [],
   "source": [
    "if(display):\n",
    "    tab_routes_voxels_common = []\n",
    "    dict_voxels_common = {}\n",
    "    tab = []\n",
    "\n",
    "    for i in range(len(tab_routes_voxels_pathfinding_global)):\n",
    "        tab_routes_voxels_common.append(list(set(tab_routes_voxels_pathfinding_global[i]).intersection(set(tab_routes_voxels_simplified_global[i]))))\n",
    "\n",
    "    for i in range(len(tab_routes_voxels_common)):\n",
    "        for key in tab_routes_voxels_common[i]:\n",
    "            if key not in dict_voxels_common:\n",
    "                dict_voxels_common[key] = [i]\n",
    "            else:\n",
    "                dict_voxels_common[key].append(i)\n",
    "\n",
    "    for key in dict_voxels_common:\n",
    "        print(key)\n",
    "        tab_routes = dict_voxels_common[key]\n",
    "        vox_str = key.split(\";\")\n",
    "        vox_int = [int(vox_str[0]), int(vox_str[1])]\n",
    "        vox_pos = voxel.get_voxel_points(vox_int, 0)\n",
    "        if(len(tab_routes) >= 0):\n",
    "            tab.append([vox_pos[0][0], vox_pos[0][1], len(tab_routes)])\n",
    "\n",
    "    df = pd.DataFrame(tab, columns=[\"lat\", \"lon\", \"value\"])\n",
    "    #fig = px.scatter_mapbox(df, lat=\"lat\", lon=\"lon\",  color=\"value\", size=\"value\", zoom=10)\n",
    "    #fig.show()\n"
   ]
  },
  {
   "cell_type": "code",
   "execution_count": 16,
   "metadata": {},
   "outputs": [],
   "source": [
    "if(display):\n",
    "    tab = []\n",
    "    for key in dict_voxels_pathfinding:\n",
    "        tab_routes = dict_voxels_pathfinding[key][\"tab_routes_starting\"]\n",
    "        vox_str = key.split(\";\")\n",
    "        vox_int = [int(vox_str[0]), int(vox_str[1])]\n",
    "        vox_pos =voxel. get_voxel_points(vox_int, 0)\n",
    "        if(len(tab_routes) >= 0):\n",
    "            tab.append([vox_pos[0][0], vox_pos[0][1], len(tab_routes)])\n",
    "\n",
    "    df = pd.DataFrame(tab, columns=[\"lat\", \"lon\", \"value\"])\n",
    "    fig = px.scatter_mapbox(df, lat=\"lat\", lon=\"lon\",  color=\"value\", size=\"value\", zoom=10)\n",
    "    fig.show()"
   ]
  },
  {
   "cell_type": "markdown",
   "metadata": {},
   "source": [
    "# Graphes distances"
   ]
  },
  {
   "cell_type": "code",
   "execution_count": 17,
   "metadata": {},
   "outputs": [],
   "source": [
    "if(display):\n",
    "    with open(\"files/\"+project_folder+\"/distances/distances_observations.tab\",'rb') as infile:\n",
    "        tab_distances = pickle.load(infile)    \n",
    "\n",
    "    with open(\"files/\"+project_folder+\"/distances/distances_mapbox.tab\",'rb') as infile:\n",
    "        tab_distances_pf = pickle.load(infile)   \n",
    "\n",
    "    print(len(tab_distances_pf))\n",
    "\n",
    "    fig = go.Figure()\n",
    "    # Create and style traces\n",
    "    fig.add_trace(go.Scatter(y=tab_distances, name='Distance réel',\n",
    "                             line=dict(color='firebrick', width=4)))\n",
    "    fig.add_trace(go.Scatter(y=tab_distances_pf, name = 'Distance plus court chemin',\n",
    "                             line=dict(color='royalblue', width=4)))\n",
    "\n",
    "    # Here we modify the tickangle of the xaxis, resulting in rotated labels.\n",
    "    fig.update_layout(barmode='group', xaxis_tickangle=-45)\n",
    "    fig.show()\n",
    "    #fig.write_image(\"images/graph_distance.png\")"
   ]
  },
  {
   "cell_type": "code",
   "execution_count": 18,
   "metadata": {},
   "outputs": [],
   "source": [
    "if(display):\n",
    "\n",
    "    tab_distances_relatives = []\n",
    "    for i in range(len(tab_distances)):\n",
    "        tab_distances_relatives.append(tab_distances[i]-tab_distances_pf[i])\n",
    "\n",
    "    fig = go.Figure()\n",
    "    # Create and style traces\n",
    "    fig.add_trace(go.Scatter(y=tab_distances_relatives, name='Distance réel',\n",
    "                             line=dict(width=4)))\n",
    "\n",
    "    # Here we modify the tickangle of the xaxis, resulting in rotated labels.\n",
    "    fig.update_layout(barmode='group', xaxis_tickangle=-45)\n",
    "    fig.show()\n",
    "    #fig.write_image(\"images/graph_diff_distance.png\")"
   ]
  },
  {
   "cell_type": "markdown",
   "metadata": {},
   "source": [
    "# CDF"
   ]
  },
  {
   "cell_type": "code",
   "execution_count": 19,
   "metadata": {},
   "outputs": [],
   "source": [
    "if(display):\n",
    "    tab_distances_relatives.sort()\n",
    "    tab_display = []\n",
    "    tab_axis = []\n",
    "    dist_max = 0\n",
    "    nb_routes = 0\n",
    "    for dist in tab_distances_relatives:\n",
    "        if(dist > dist_max):\n",
    "            tab_display.append(nb_routes/len(tab_distances_relatives))\n",
    "            tab_axis.append(dist_max)\n",
    "            dist_max += 0.2\n",
    "        nb_routes += 1\n",
    "    fig = go.Figure()\n",
    "    # Create and style traces\n",
    "    fig.add_trace(go.Scatter(y=tab_display, x=tab_axis, name='Distance réel',\n",
    "                             line=dict(width=4)))\n",
    "\n",
    "\n",
    "    # Here we modify the tickangle of the xaxis, resulting in rotated labels.\n",
    "    fig.update_layout(barmode='group', xaxis_tickangle=-45)\n",
    "    fig.show()\n",
    "    #fig.write_image(\"images/cdf.png\")"
   ]
  },
  {
   "cell_type": "markdown",
   "metadata": {},
   "source": [
    "# Matrice de distance"
   ]
  },
  {
   "cell_type": "code",
   "execution_count": 20,
   "metadata": {
    "scrolled": true
   },
   "outputs": [
    {
     "name": "stdout",
     "output_type": "stream",
     "text": [
      "number of non-zero in diag :  0\n"
     ]
    }
   ],
   "source": [
    "distance_matrix = np.empty([df_simplified.iloc[-1][\"route_num\"], df_simplified.iloc[-1][\"route_num\"]])\n",
    "\n",
    "pca = PCA(n_components=1)\n",
    "\n",
    "for i in range(df_simplified.iloc[-1][\"route_num\"]):\n",
    "    #print(i)\n",
    "    for j in range(i, df_simplified.iloc[-1][\"route_num\"]):\n",
    "        coeff = metric.get_distance_voxels(i+1, j+1, tab_routes_voxels_simplified_global)\n",
    "        #coeff = metric.get_distance_euclidian(df_cluster[df_cluster[\"route_num\"]==i+1], df_cluster[df_cluster[\"route_num\"]==j+1], pca)\n",
    "        #coeff = metric.get_distance_hausdorff(df_cluster[df_cluster[\"route_num\"]==i+1], df_cluster[df_cluster[\"route_num\"]==j+1])\n",
    "        distance_matrix[i][j] = coeff[0]\n",
    "        distance_matrix[j][i] = coeff[1]\n",
    "\n",
    "print(\"number of non-zero in diag : \", len(np.nonzero(np.diagonal(distance_matrix))[0]))"
   ]
  },
  {
   "cell_type": "code",
   "execution_count": 21,
   "metadata": {},
   "outputs": [],
   "source": [
    "if(display):\n",
    "    num_vox = 0\n",
    "    tab_vox = []\n",
    "    num_route = 9\n",
    "    df_display = df_simplified[df_simplified[\"route_num\"]==num_route]\n",
    "    df_display[\"type\"] = 0\n",
    "    for v in tab_routes_voxels_simplified[num_route]:\n",
    "        vox_str = v.split(\";\")\n",
    "        vox_int = [int(vox_str[0]), int(vox_str[1])]\n",
    "        tab_vox += voxel.get_voxel_points(vox_int, num_vox)\n",
    "        num_vox -= 1\n",
    "\n",
    "    df = pd.DataFrame(tab_vox, columns=[\"lat\", \"lon\", \"route_num\", \"type\"])\n",
    "    df_display = df_display.append(df)\n",
    "    dp.display(df_display, color=\"type\")   "
   ]
  },
  {
   "cell_type": "markdown",
   "metadata": {},
   "source": [
    "# Graphes clustering"
   ]
  },
  {
   "cell_type": "code",
   "execution_count": 22,
   "metadata": {},
   "outputs": [],
   "source": [
    "start_variable = 0.1\n",
    "stop_variable = 0.9\n",
    "step_variable = 0.1\n",
    "\n",
    "tab_nb_clusters = []\n",
    "tab_noise = []\n",
    "tab_nb_mini_clusters = []\n",
    "tab_nb_big_clusters = []\n",
    "tab_mean = []\n",
    "tab_silhouette = []\n",
    "\n",
    "for variable in np.arange(start_variable, stop_variable, step_variable):\n",
    "    c = DBSCAN(eps=variable, min_samples=5, metric='precomputed')\n",
    "    clusters = cl.cluster(distance_matrix, c)\n",
    "    dict_cluster = cl.tab_clusters_to_dict(clusters)\n",
    "    silhouette = silhouette_score(distance_matrix, clusters, metric=\"precomputed\")\n",
    "\n",
    "    nb_mini_clusters= 0\n",
    "    nb_big_clusters = 0\n",
    "    mean = 0\n",
    "    for i in range(len(dict_cluster)-1):\n",
    "        if(len(dict_cluster[i]) > 15):\n",
    "            nb_big_clusters += 1\n",
    "        elif(len(dict_cluster[i]) == 1):\n",
    "            nb_mini_clusters += 1\n",
    "        mean+=len(dict_cluster[i])\n",
    "        \n",
    "    tab_nb_clusters.append(len(dict_cluster)-1)\n",
    "    tab_noise.append(clusters.tolist().count(-1))\n",
    "    tab_nb_mini_clusters.append(nb_mini_clusters)\n",
    "    tab_nb_big_clusters.append(nb_big_clusters)\n",
    "    tab_mean.append(mean/(len(dict_cluster)-1))\n",
    "    tab_silhouette.append(silhouette)\n",
    "    \n"
   ]
  },
  {
   "cell_type": "code",
   "execution_count": 23,
   "metadata": {},
   "outputs": [],
   "source": [
    "if(display):    \n",
    "    fig = go.Figure()\n",
    "\n",
    "    fig.add_trace(go.Scatter(x=np.arange(start_variable, stop_variable, step_variable), \n",
    "                             y=tab_nb_mini_clusters, name='Mini clusters',\n",
    "                             line=dict(color='firebrick', width=4)))\n",
    "    fig.add_trace(go.Scatter(x=np.arange(start_variable, stop_variable, step_variable), \n",
    "                             y=tab_nb_big_clusters, name = 'Big clusters',\n",
    "                             line=dict(color='royalblue', width=4)))\n",
    "\n",
    "\n",
    "    fig.add_shape(type=\"line\", x0=0, y0=11, x1=0.4, y1=11,\n",
    "                line=dict(color=\"LightSeaGreen\", width=4, dash=\"dot\"))\n",
    "    fig.add_shape(type=\"line\", x0=0.4, y0=0, x1=0.4, y1=11,\n",
    "                line=dict(color=\"LightSeaGreen\", width=4, dash=\"dot\"))\n",
    "\n",
    "    fig.add_shape(type=\"line\", x0=0.4, y0=11, x1=0.4, y1=15,\n",
    "                line=dict(color=\"LightSeaGreen\", width=4, dash=\"dot\"))\n",
    "    fig.add_shape(type=\"line\", x0=0, y0=15, x1=0.4, y1=15,\n",
    "                line=dict(color=\"LightSeaGreen\", width=4, dash=\"dot\"))\n",
    "\n",
    "    # Here we modify the tickangle of the xaxis, resulting in rotated labels.\n",
    "    fig.update_layout(barmode='group', xaxis_tickangle=-45)\n",
    "    fig.show()\n",
    "    #fig.write_image(\"images/clusters_dbscan.png\")"
   ]
  },
  {
   "cell_type": "code",
   "execution_count": 24,
   "metadata": {},
   "outputs": [],
   "source": [
    "if(display):       \n",
    "    fig = go.Figure()\n",
    "\n",
    "    fig.add_trace(go.Scatter(x=np.arange(start_variable, stop_variable, step_variable), \n",
    "                             y=tab_nb_clusters, name='Mean size',\n",
    "                             line=dict(color='firebrick', width=4)))\n",
    "\n",
    "    fig.add_shape(type=\"line\", x0=0, y0=74, x1=0.4, y1=74,\n",
    "                line=dict(color=\"LightSeaGreen\", width=4, dash=\"dot\"))\n",
    "    fig.add_shape(type=\"line\", x0=0.4, y0=0, x1=0.4, y1=74,\n",
    "                line=dict(color=\"LightSeaGreen\", width=4, dash=\"dot\"))\n",
    "\n",
    "\n",
    "    # Here we modify the tickangle of the xaxis, resulting in rotated labels.\n",
    "    fig.update_layout(barmode='group', xaxis_tickangle=-45)\n",
    "    fig.show()\n",
    "    #fig.write_image(\"images/mean_dbscan.png\")"
   ]
  },
  {
   "cell_type": "code",
   "execution_count": 25,
   "metadata": {},
   "outputs": [],
   "source": [
    "if(display):       \n",
    "    fig = go.Figure()\n",
    "\n",
    "    fig.add_trace(go.Scatter(x=np.arange(start_variable, stop_variable, step_variable), \n",
    "                             y=tab_silhouette, name='Silhouette',\n",
    "                             line=dict(color='royalblue', width=4)))\n",
    "\n",
    "    fig.add_shape(type=\"line\", x0=0, y0=0.3898887, x1=0.4, y1=0.3898887,\n",
    "                line=dict(color=\"LightSeaGreen\", width=4, dash=\"dot\"))\n",
    "    fig.add_shape(type=\"line\", x0=0.4, y0=0, x1=0.4, y1=0.3898887,\n",
    "                line=dict(color=\"LightSeaGreen\", width=4, dash=\"dot\"))\n",
    "\n",
    "\n",
    "    # Here we modify the tickangle of the xaxis, resulting in rotated labels.\n",
    "    fig.update_layout(barmode='group', xaxis_tickangle=-45)\n",
    "    fig.show()\n",
    "    #fig.write_image(\"images/silhouette_dbscan.png\")"
   ]
  },
  {
   "cell_type": "markdown",
   "metadata": {},
   "source": [
    "# Affichage/Propriétés des clusters"
   ]
  },
  {
   "cell_type": "code",
   "execution_count": 26,
   "metadata": {},
   "outputs": [],
   "source": [
    "def cluster_properties(dict_cl, X, cl, metric=None):\n",
    "    mean = 0\n",
    "    mini_clusters = []\n",
    "    big_clusters = []\n",
    "    for i in dict_cl:\n",
    "        if(i != -1):\n",
    "            if(len(dict_cl[i]) > len(X)/60):\n",
    "                big_clusters.append(i)\n",
    "            elif(len(dict_cl[i]) <= len(X)/500):\n",
    "                mini_clusters.append(i)\n",
    "            mean+=len(dict_cl[i])\n",
    "\n",
    "    if(metric != None):\n",
    "        silhouette = silhouette_score(X, cl, metric=metric)\n",
    "    else:\n",
    "        silhouette = silhouette_score(X, cl)\n",
    "\n",
    "    print(len(big_clusters), \"big clusters:\", big_clusters)\n",
    "    print(len(mini_clusters), \"mini clusters :\", mini_clusters)\n",
    "    print()\n",
    "    print(\"mean size :\", mean/(len(dict_cl)-1))\n",
    "    print()\n",
    "    print(\"silhouette score :\", silhouette)"
   ]
  },
  {
   "cell_type": "markdown",
   "metadata": {},
   "source": [
    "# Clustering"
   ]
  },
  {
   "cell_type": "code",
   "execution_count": 27,
   "metadata": {},
   "outputs": [
    {
     "name": "stdout",
     "output_type": "stream",
     "text": [
      "74 clusters\n",
      "noise: 81\n",
      "\n",
      "16 big clusters: [0, 1, 4, 46, 18, 30, 12, 16, 19, 24, 45, 29, 33, 35, 36, 62]\n",
      "11 mini clusters : [2, 5, 6, 38, 48, 53, 55, 56, 60, 64, 71]\n",
      "\n",
      "mean size : 11.04054054054054\n",
      "\n",
      "silhouette score : 0.39044884383673584\n"
     ]
    }
   ],
   "source": [
    "pca = PCA(n_components=750)\n",
    "#distance_matrix_reduced = pca.fit_transform(distance_matrix)\n",
    "\n",
    "dbscan = DBSCAN(eps=0.4, min_samples=5, metric='precomputed')\n",
    "optics = OPTICS(min_samples=10, metric='precomputed')\n",
    "kmedoids = KMedoids(n_clusters=75, metric=metric.get_distance_voxels_symetric, random_state=0)\n",
    "\n",
    "clustering = dbscan\n",
    "X = distance_matrix\n",
    "if(clustering == kmedoids):\n",
    "    X = np.asarray(np.expand_dims(np.arange(1, 900, 1), axis=1))\n",
    "\n",
    "clusters = cl.cluster(X, clustering)\n",
    "dict_cluster = cl.tab_clusters_to_dict(clusters)\n",
    "\n",
    "print(len(dict_cluster)-1, \"clusters\")\n",
    "print(\"noise:\", clusters.tolist().count(-1))\n",
    "print()\n",
    "cluster_properties(dict_cluster, distance_matrix, clusters, \"precomputed\")"
   ]
  },
  {
   "cell_type": "code",
   "execution_count": 28,
   "metadata": {},
   "outputs": [],
   "source": [
    "if(display):\n",
    "    nb_cluster = 1\n",
    "    print(len(dict_cluster[nb_cluster]))\n",
    "    dp.display_routes(df_simplified, dict_cluster[nb_cluster])\n",
    "    #dp.display_cluster_heatmap(df_simplified, dict_cluster[nb_cluster])"
   ]
  },
  {
   "cell_type": "markdown",
   "metadata": {},
   "source": [
    "# Voxel Clustering"
   ]
  },
  {
   "cell_type": "code",
   "execution_count": 29,
   "metadata": {},
   "outputs": [],
   "source": [
    "clusters_used = []\n",
    "for key in dict_voxels_bikepath:\n",
    "    if key in dict_voxels_pathfinding:\n",
    "        if(dict_voxels_bikepath[key][\"cluster\"] not in clusters_used):\n",
    "            dict_voxels_pathfinding[key][\"cluster\"] = len(clusters_used)\n",
    "            clusters_used.append(dict_voxels_bikepath[key][\"cluster\"])\n",
    "        else:\n",
    "            dict_voxels_pathfinding[key][\"cluster\"] = clusters_used.index(dict_voxels_bikepath[key][\"cluster\"])"
   ]
  },
  {
   "cell_type": "code",
   "execution_count": 30,
   "metadata": {},
   "outputs": [
    {
     "name": "stdout",
     "output_type": "stream",
     "text": [
      "5554\n"
     ]
    }
   ],
   "source": [
    "X = []\n",
    "for key in dict_voxels_pathfinding:\n",
    "    if(\"cluster\" not in dict_voxels_pathfinding[key]):\n",
    "        vox_str = key.split(\";\")\n",
    "        vox_int = [int(vox_str[0]), int(vox_str[1])]\n",
    "        tab_points = voxel.get_voxel_points(vox_int)\n",
    "        X.append([tab_points[0][0], tab_points[0][1], dict_voxels_pathfinding[key][\"cyclability_coeff\"]])\n",
    "print(len(X))"
   ]
  },
  {
   "cell_type": "code",
   "execution_count": 31,
   "metadata": {},
   "outputs": [
    {
     "name": "stdout",
     "output_type": "stream",
     "text": [
      "554 clusters\n",
      "noise: 0\n",
      "\n"
     ]
    }
   ],
   "source": [
    "\n",
    "\n",
    "if(new_voxels_clustering):  \n",
    "    kmeans = KMeans(n_clusters=len(X)//10, random_state=0)\n",
    "    dbscan = DBSCAN(eps=0.5, min_samples=5)\n",
    "    clusters = cl.cluster(X, kmeans)\n",
    "else:\n",
    "    with open(\"files/\"+project_folder+\"/data/kmeans_voxels_osmnx.sk\",'rb') as infile:\n",
    "        kmeans = pickle.load(infile)\n",
    "    clusters = kmeans.labels_\n",
    "        \n",
    "dict_cluster_voxel = cl.tab_clusters_to_dict(clusters)\n",
    "\n",
    "print(len(dict_cluster_voxel)-1, \"clusters\")\n",
    "print(\"noise:\", clusters.tolist().count(-1))\n",
    "print()\n",
    "#cluster_properties(dict_cluster_voxel, X, clusters)\n"
   ]
  },
  {
   "cell_type": "code",
   "execution_count": 32,
   "metadata": {},
   "outputs": [],
   "source": [
    "if(save_kmeans_voxels):\n",
    "    print(\"Saving kmeans_voxels_osmnx.sk...\")\n",
    "    with open(\"files/\"+project_folder+\"/data/kmeans_voxels_osmnx.sk\",'wb') as outfile:\n",
    "        pickle.dump(kmeans, outfile)"
   ]
  },
  {
   "cell_type": "code",
   "execution_count": 33,
   "metadata": {},
   "outputs": [],
   "source": [
    "if(display):\n",
    "\n",
    "    num_cluster = 5\n",
    "\n",
    "    tab = []\n",
    "    for vox in dict_cluster_voxel[num_cluster]:\n",
    "        tab.append(X[vox])\n",
    "\n",
    "    df = pd.DataFrame(tab, columns=[\"lat\", \"lon\", \"value\"])\n",
    "    fig = px.scatter_mapbox(df, lat=\"lat\", lon=\"lon\",  color=\"value\", size=\"value\", zoom=10)\n",
    "    fig.show()\n",
    "    "
   ]
  },
  {
   "cell_type": "code",
   "execution_count": 34,
   "metadata": {},
   "outputs": [],
   "source": [
    "dict_voxels_pathfinding_clustered = deepcopy(dict_voxels_pathfinding)\n",
    "for c in dict_cluster_voxel:\n",
    "    for vox in dict_cluster_voxel[c]:\n",
    "        v = X[vox]\n",
    "        vox_int = voxel.find_voxel_int([v[0], v[1]])\n",
    "        key = str(vox_int[0])+\";\"+str(vox_int[1])\n",
    "        dict_voxels_pathfinding_clustered[key][\"cluster\"] = len(clusters_used)+c\n",
    "if(save_dict_voxels_pathfinding_clustered):\n",
    "    print(\"Saving voxels_clustered_osmnx.dict...\")\n",
    "    with open(\"files/\"+project_folder+\"/data/voxels_clustered_osmnx.dict\",'wb') as outfile:\n",
    "        pickle.dump(dict_voxels_pathfinding_clustered, outfile)"
   ]
  },
  {
   "cell_type": "code",
   "execution_count": 35,
   "metadata": {},
   "outputs": [
    {
     "name": "stdout",
     "output_type": "stream",
     "text": [
      "11711\n"
     ]
    }
   ],
   "source": [
    "print(len(dict_voxels_pathfinding_clustered))"
   ]
  },
  {
   "cell_type": "markdown",
   "metadata": {},
   "source": [
    "# Osmnx"
   ]
  },
  {
   "cell_type": "code",
   "execution_count": 36,
   "metadata": {},
   "outputs": [],
   "source": [
    "def generate_graphs():\n",
    "    # creating a graph by using a point\n",
    "    lyon = (45.74846, 4.84671)\n",
    "    st_etienne = (45.4333, 4.4)\n",
    "    G_lyon = ox.graph_from_point(lyon, distance=7500)\n",
    "    G_stetienne = ox.graph_from_point(st_etienne, distance=7500)\n",
    "    G = G_lyon\n",
    "    # quick plot\n",
    "    #ox.plot_graph(G, fig_height=20, fig_width=20, edge_color='black')\n",
    "    return G_lyon, G_stetienne\n",
    "#G_lyon, G_stetienne = generate_graphs()"
   ]
  },
  {
   "cell_type": "code",
   "execution_count": 37,
   "metadata": {},
   "outputs": [],
   "source": [
    "with open(\"files/\"+project_folder+\"/network_graphs/lyon.ox\", \"rb\") as infile:\n",
    "    G_lyon = pickle.load(infile)\n",
    "with open(\"files/\"+project_folder+\"/network_graphs/st_etienne.ox\", \"rb\") as infile:\n",
    "    G_stetienne = pickle.load(infile)\n",
    "    \n",
    "nodes_lyon, _ = ox.graph_to_gdfs(G_lyon)\n",
    "tree_lyon = KDTree(nodes_lyon[['y', 'x']], metric='euclidean')\n",
    "\n",
    "nodes_stetienne, _ = ox.graph_to_gdfs(G_stetienne)\n",
    "tree_stetienne = KDTree(nodes_stetienne[['y', 'x']], metric='euclidean')\n",
    "\n",
    "G = G_lyon\n",
    "tree = tree_lyon"
   ]
  },
  {
   "cell_type": "code",
   "execution_count": 38,
   "metadata": {},
   "outputs": [],
   "source": [
    "df_temp = df_simplified[df_simplified[\"route_num\"]==i+1]\n",
    "d_point = [df_temp.iloc[0][\"lat\"], df_temp.iloc[0][\"lon\"]]\n",
    "f_point = [df_temp.iloc[-1][\"lat\"], df_temp.iloc[-1][\"lon\"]]"
   ]
  },
  {
   "cell_type": "code",
   "execution_count": 39,
   "metadata": {},
   "outputs": [],
   "source": [
    "if(display):\n",
    "    route = data.pathfind_route_osmnx(d_point, f_point, tree, G, i)\n",
    "    ox.plot_route_folium(G, route, route_color='green')"
   ]
  },
  {
   "cell_type": "code",
   "execution_count": 40,
   "metadata": {
    "scrolled": true
   },
   "outputs": [],
   "source": [
    "with open(\"files/\"+project_folder+\"/data/osmnx_pathfinding.df\", \"rb\") as infile:\n",
    "    df_pathfinding_osmnx = pickle.load(infile)\n",
    "\n",
    "for i in range(df_pathfinding_osmnx.iloc[-1][\"route_num\"], df_simplified.iloc[-1][\"route_num\"]):\n",
    "    df_temp = df_simplified[df_simplified[\"route_num\"]==i+1]\n",
    "    d_point = [df_temp.iloc[0][\"lat\"], df_temp.iloc[0][\"lon\"]]\n",
    "    f_point = [df_temp.iloc[-1][\"lat\"], df_temp.iloc[-1][\"lon\"]]\n",
    "    if(d_point[0] < 45.5):\n",
    "        tree = tree_stetienne\n",
    "        G = G_stetienne\n",
    "    else:\n",
    "        tree = tree_lyon\n",
    "        G = G_lyon\n",
    "    route = data.pathfind_route_osmnx(d_point, f_point, tree, G, i)\n",
    "    route_coord = [[G.nodes[x][\"y\"], G.nodes[x][\"x\"]] for x in route]\n",
    "    route_coord = [x + [i+1] for x in route_coord]\n",
    "    df_pathfinding_osmnx = df_pathfinding_osmnx.append(pd.DataFrame(route_coord, columns=[\"lat\", \"lon\", \"route_num\"]))\n",
    "    "
   ]
  },
  {
   "cell_type": "markdown",
   "metadata": {},
   "source": [
    "# Validation"
   ]
  },
  {
   "cell_type": "code",
   "execution_count": 41,
   "metadata": {
    "scrolled": true
   },
   "outputs": [
    {
     "name": "stdout",
     "output_type": "stream",
     "text": [
      "ratio: 1.0\n"
     ]
    }
   ],
   "source": [
    "import python.validation as validation\n",
    "\n",
    "with open(\"files/\"+project_folder+\"/data/dbscan_pathfinding_osmnx.tab\",'rb') as infile:\n",
    "    tab_clusters = pickle.load(infile)\n",
    "with open(\"files/\"+project_folder+\"/data/voxels_clustered_osmnx.dict\",'rb') as infile:\n",
    "    dict_voxels = pickle.load(infile)\n",
    "with open(\"files/\"+project_folder+\"/data/kmeans_voxels_osmnx.sk\",'rb') as infile:\n",
    "    kmeans = pickle.load(infile)\n",
    "    \n",
    "df = df_pathfinding\n",
    "    \n",
    "size_data = 1\n",
    "hidden_size = 256\n",
    "num_layers = 2\n",
    "voxels_frequency = 4\n",
    "\n",
    "network = RNN.RNN_LSTM(size_data, max(tab_clusters)+1, hidden_size, num_layers)\n",
    "network.load_state_dict(torch.load(\"files/\"+project_folder+\"/neural_networks/network_osmnx.pt\"))\n",
    "network.eval()\n",
    "\n",
    "nb_good_predict = 0\n",
    "nb_predict = 0\n",
    "\n",
    "deviation = 0 #5e-3\n",
    "\n",
    "tab_predict = []\n",
    "\n",
    "i=675\n",
    "\n",
    "for i in range(10): #len(tab_clusters)):\n",
    "    if(tab_clusters[i] != -1 and i != 675):\n",
    "        #print(i)\n",
    "        df_temp = df[df[\"route_num\"]==i]\n",
    "        d_point = [df_temp.iloc[0][\"lat\"], df_temp.iloc[0][\"lon\"]]\n",
    "        f_point = [df_temp.iloc[-1][\"lat\"], df_temp.iloc[-1][\"lon\"]]\n",
    "        rand = random.uniform(-deviation, deviation)\n",
    "        d_point[0] += rand\n",
    "        rand = random.uniform(-deviation, deviation)\n",
    "        d_point[1] += rand\n",
    "        rand = random.uniform(-deviation, deviation)\n",
    "        f_point[0] += rand\n",
    "        rand = random.uniform(-deviation, deviation)\n",
    "        f_point[1] += rand\n",
    "        \n",
    "        if(d_point[0] < 45.5):\n",
    "            tree = tree_stetienne\n",
    "            G = G_stetienne\n",
    "        else:\n",
    "            tree = tree_lyon\n",
    "            G = G_lyon\n",
    "        df_route, cl, nb_new_cluster = validation.find_cluster(d_point, f_point, network, voxels_frequency, df_pathfinding, dict_voxels, \n",
    "                                     kmeans, tree, G, False)\n",
    "        if(cl == tab_clusters[i]):\n",
    "            nb_good_predict += 1\n",
    "            #print(\"good predict\")\n",
    "        nb_predict += 1\n",
    "if(nb_predict > 0):\n",
    "    tab_predict.append(nb_good_predict/nb_predict)\n",
    "\n",
    "tot_predict = 0\n",
    "for predict in tab_predict:\n",
    "    tot_predict += predict\n",
    "print(\"ratio:\", tot_predict/len(tab_predict))\n"
   ]
  },
  {
   "cell_type": "code",
   "execution_count": 42,
   "metadata": {},
   "outputs": [],
   "source": [
    "if(display):\n",
    "    dp.display(df_simplified[df_simplified[\"route_num\"]==i]) \n",
    "    dp.display_cluster_heatmap(df_simplified, dict_cluster[cl])\n",
    "    dp.display(df_route)"
   ]
  },
  {
   "cell_type": "markdown",
   "metadata": {},
   "source": [
    "# Graph modification"
   ]
  },
  {
   "cell_type": "code",
   "execution_count": 43,
   "metadata": {},
   "outputs": [
    {
     "ename": "FileNotFoundError",
     "evalue": "[Errno 2] No such file or directory: 'files/veleval/onlylyon_bikepath_fusioned.df'",
     "output_type": "error",
     "traceback": [
      "\u001b[0;31m---------------------------------------------------------------------------\u001b[0m",
      "\u001b[0;31mFileNotFoundError\u001b[0m                         Traceback (most recent call last)",
      "\u001b[0;32m<ipython-input-43-91ffd19e804c>\u001b[0m in \u001b[0;36m<module>\u001b[0;34m\u001b[0m\n\u001b[1;32m      1\u001b[0m \u001b[0;31m#G_stetienne\u001b[0m\u001b[0;34m\u001b[0m\u001b[0;34m\u001b[0m\u001b[0;34m\u001b[0m\u001b[0m\n\u001b[1;32m      2\u001b[0m \u001b[0mG\u001b[0m \u001b[0;34m=\u001b[0m \u001b[0mG_lyon\u001b[0m\u001b[0;34m\u001b[0m\u001b[0;34m\u001b[0m\u001b[0m\n\u001b[0;32m----> 3\u001b[0;31m \u001b[0;32mwith\u001b[0m \u001b[0mopen\u001b[0m\u001b[0;34m(\u001b[0m\u001b[0;34m\"files/\"\u001b[0m\u001b[0;34m+\u001b[0m\u001b[0mproject_folder\u001b[0m\u001b[0;34m+\u001b[0m\u001b[0;34m\"/onlylyon_bikepath_fusioned.df\"\u001b[0m\u001b[0;34m,\u001b[0m \u001b[0;34m\"rb\"\u001b[0m\u001b[0;34m)\u001b[0m \u001b[0;32mas\u001b[0m \u001b[0moutfile\u001b[0m\u001b[0;34m:\u001b[0m\u001b[0;34m\u001b[0m\u001b[0;34m\u001b[0m\u001b[0m\n\u001b[0m\u001b[1;32m      4\u001b[0m     \u001b[0mdf_osm_bikepath\u001b[0m \u001b[0;34m=\u001b[0m \u001b[0mpickle\u001b[0m\u001b[0;34m.\u001b[0m\u001b[0mload\u001b[0m\u001b[0;34m(\u001b[0m\u001b[0moutfile\u001b[0m\u001b[0;34m)\u001b[0m\u001b[0;34m\u001b[0m\u001b[0;34m\u001b[0m\u001b[0m\n\u001b[1;32m      5\u001b[0m     \u001b[0mdf_osm_bikepath\u001b[0m \u001b[0;34m=\u001b[0m \u001b[0mpd\u001b[0m\u001b[0;34m.\u001b[0m\u001b[0mDataFrame\u001b[0m\u001b[0;34m(\u001b[0m\u001b[0mdf_osm_bikepath\u001b[0m\u001b[0;34m,\u001b[0m \u001b[0mdtype\u001b[0m\u001b[0;34m=\u001b[0m\u001b[0mobject\u001b[0m\u001b[0;34m)\u001b[0m\u001b[0;34m\u001b[0m\u001b[0;34m\u001b[0m\u001b[0m\n",
      "\u001b[0;31mFileNotFoundError\u001b[0m: [Errno 2] No such file or directory: 'files/veleval/onlylyon_bikepath_fusioned.df'"
     ]
    }
   ],
   "source": [
    "#G_stetienne\n",
    "G = G_lyon\n",
    "with open(\"files/\"+project_folder+\"/onlylyon_bikepath_fusioned.df\", \"rb\") as outfile:\n",
    "    df_osm_bikepath = pickle.load(outfile)\n",
    "    df_osm_bikepath = pd.DataFrame(df_osm_bikepath, dtype=object)\n",
    "      \n",
    "_, dict_voxels_osm_bikepath = voxel.create_dict_vox(df_osm_bikepath, df_osm_bikepath.iloc[0][\"route_num\"], df_osm_bikepath.iloc[-1][\"route_num\"], True)\n",
    "\n",
    "for v in G:\n",
    "    for v_n in G[v]:\n",
    "        df_line = pd.DataFrame([[G.nodes[v]['y'], G.nodes[v]['x'], 1], [G.nodes[v_n]['y'], G.nodes[v_n]['x'], 1]], columns=[\"lat\", \"lon\", \"route_num\"])\n",
    "        tab_voxels, _ = voxel.create_dict_vox(df_line, 1, 1)\n",
    "        nb_vox_found = 0\n",
    "        tot_coeff = 0\n",
    "        for vox in tab_voxels[0]:\n",
    "            if vox in dict_voxels_osm_bikepath:\n",
    "                G[v][v_n][0]['length'] -= G[v][v_n][0]['length']*0.15\n",
    "                break"
   ]
  },
  {
   "cell_type": "code",
   "execution_count": 44,
   "metadata": {},
   "outputs": [
    {
     "data": {
      "text/html": [
       "<div>\n",
       "<style scoped>\n",
       "    .dataframe tbody tr th:only-of-type {\n",
       "        vertical-align: middle;\n",
       "    }\n",
       "\n",
       "    .dataframe tbody tr th {\n",
       "        vertical-align: top;\n",
       "    }\n",
       "\n",
       "    .dataframe thead th {\n",
       "        text-align: right;\n",
       "    }\n",
       "</style>\n",
       "<table border=\"1\" class=\"dataframe\">\n",
       "  <thead>\n",
       "    <tr style=\"text-align: right;\">\n",
       "      <th></th>\n",
       "      <th>lat</th>\n",
       "      <th>lon</th>\n",
       "      <th>route_num</th>\n",
       "    </tr>\n",
       "  </thead>\n",
       "  <tbody>\n",
       "    <tr>\n",
       "      <th>0</th>\n",
       "      <td>45.7598</td>\n",
       "      <td>4.87564</td>\n",
       "      <td>0</td>\n",
       "    </tr>\n",
       "    <tr>\n",
       "      <th>1</th>\n",
       "      <td>45.7595</td>\n",
       "      <td>4.87557</td>\n",
       "      <td>0</td>\n",
       "    </tr>\n",
       "    <tr>\n",
       "      <th>2</th>\n",
       "      <td>45.7594</td>\n",
       "      <td>4.87589</td>\n",
       "      <td>0</td>\n",
       "    </tr>\n",
       "    <tr>\n",
       "      <th>3</th>\n",
       "      <td>45.7583</td>\n",
       "      <td>4.87658</td>\n",
       "      <td>0</td>\n",
       "    </tr>\n",
       "    <tr>\n",
       "      <th>4</th>\n",
       "      <td>45.7561</td>\n",
       "      <td>4.87612</td>\n",
       "      <td>0</td>\n",
       "    </tr>\n",
       "    <tr>\n",
       "      <th>...</th>\n",
       "      <td>...</td>\n",
       "      <td>...</td>\n",
       "      <td>...</td>\n",
       "    </tr>\n",
       "    <tr>\n",
       "      <th>61</th>\n",
       "      <td>45.7785</td>\n",
       "      <td>4.80798</td>\n",
       "      <td>898</td>\n",
       "    </tr>\n",
       "    <tr>\n",
       "      <th>62</th>\n",
       "      <td>45.7805</td>\n",
       "      <td>4.80921</td>\n",
       "      <td>898</td>\n",
       "    </tr>\n",
       "    <tr>\n",
       "      <th>63</th>\n",
       "      <td>45.7806</td>\n",
       "      <td>4.80916</td>\n",
       "      <td>898</td>\n",
       "    </tr>\n",
       "    <tr>\n",
       "      <th>64</th>\n",
       "      <td>45.7827</td>\n",
       "      <td>4.81093</td>\n",
       "      <td>898</td>\n",
       "    </tr>\n",
       "    <tr>\n",
       "      <th>65</th>\n",
       "      <td>45.7831</td>\n",
       "      <td>4.80931</td>\n",
       "      <td>898</td>\n",
       "    </tr>\n",
       "  </tbody>\n",
       "</table>\n",
       "<p>28508 rows × 3 columns</p>\n",
       "</div>"
      ],
      "text/plain": [
       "        lat      lon route_num\n",
       "0   45.7598  4.87564         0\n",
       "1   45.7595  4.87557         0\n",
       "2   45.7594  4.87589         0\n",
       "3   45.7583  4.87658         0\n",
       "4   45.7561  4.87612         0\n",
       "..      ...      ...       ...\n",
       "61  45.7785  4.80798       898\n",
       "62  45.7805  4.80921       898\n",
       "63  45.7806  4.80916       898\n",
       "64  45.7827  4.81093       898\n",
       "65  45.7831  4.80931       898\n",
       "\n",
       "[28508 rows x 3 columns]"
      ]
     },
     "execution_count": 44,
     "metadata": {},
     "output_type": "execute_result"
    }
   ],
   "source": [
    "df_simplified"
   ]
  }
 ],
 "metadata": {
  "kernelspec": {
   "display_name": "cycling-predictive-model",
   "language": "python",
   "name": "cycling-predictive-model"
  },
  "language_info": {
   "codemirror_mode": {
    "name": "ipython",
    "version": 3
   },
   "file_extension": ".py",
   "mimetype": "text/x-python",
   "name": "python",
   "nbconvert_exporter": "python",
   "pygments_lexer": "ipython3",
   "version": "3.7.5"
  }
 },
 "nbformat": 4,
 "nbformat_minor": 2
}
